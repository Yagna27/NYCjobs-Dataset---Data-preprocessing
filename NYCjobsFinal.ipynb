{
 "cells": [
  {
   "cell_type": "code",
   "execution_count": 1,
   "id": "63101a84",
   "metadata": {},
   "outputs": [],
   "source": [
    "path = '/Users/schama/Desktop/Mirror/00FSU/00CoursesSpring2023/ProjectsDataSci/Assignment2/NYC_Jobs.csv'"
   ]
  },
  {
   "cell_type": "code",
   "execution_count": 15,
   "id": "c238a6f4",
   "metadata": {},
   "outputs": [],
   "source": [
    "import pandas as pd\n",
    "# to show all columns and lines \n",
    "pd.set_option('display.max_columns', None)\n",
    "pd.set_option('display.max_rows', None)\n",
    "\n",
    "import numpy as np"
   ]
  },
  {
   "cell_type": "code",
   "execution_count": 3,
   "id": "cea61103",
   "metadata": {},
   "outputs": [],
   "source": [
    "jobs = pd.read_csv(path, index_col = 'Job ID')"
   ]
  },
  {
   "cell_type": "code",
   "execution_count": 4,
   "id": "0d013af6",
   "metadata": {},
   "outputs": [
    {
     "data": {
      "text/plain": [
       "array([0, 1])"
      ]
     },
     "execution_count": 4,
     "metadata": {},
     "output_type": "execute_result"
    }
   ],
   "source": [
    "# Encoding variable Posting Type\n",
    "jobs['Posting Type'].replace(['Internal', 'External'], [0,1], inplace = True)\n",
    "jobs['Posting Type'].unique()"
   ]
  },
  {
   "cell_type": "code",
   "execution_count": 5,
   "id": "6d4bc45d",
   "metadata": {},
   "outputs": [],
   "source": [
    "# Dealing with null values and keeping only Full time jobs in variable Full-Time/Part-Time indicator\n",
    "jobs['Full-Time/Part-Time indicator'].unique()\n",
    "jobs['Full-Time/Part-Time indicator'].fillna('F', inplace = True)\n",
    "# dropping only part time\n",
    "jobs.drop(jobs[jobs['Full-Time/Part-Time indicator'] == 'P'].index, inplace = True)\n"
   ]
  },
  {
   "cell_type": "code",
   "execution_count": 6,
   "id": "ff47f074",
   "metadata": {},
   "outputs": [],
   "source": [
    "# Dropping columns we are not interested in\n",
    "jobs.drop(['Business Title',\n",
    "           'Civil Service Title',\n",
    "           'Title Classification',\n",
    "           'Title Code No',\n",
    "           'Work Location',\n",
    "           'Division/Work Unit',\n",
    "           'Job Description',\n",
    "           'Preferred Skills',\n",
    "           'Additional Information',\n",
    "           'To Apply',\n",
    "           'Hours/Shift',\n",
    "           'Work Location 1',\n",
    "           'Recruitment Contact',\n",
    "           'Residency Requirement',\n",
    "           'Post Until',\n",
    "           'Process Date',\n",
    "           'Full-Time/Part-Time indicator'], axis=1, inplace=True)"
   ]
  },
  {
   "cell_type": "code",
   "execution_count": 7,
   "id": "43a69168",
   "metadata": {},
   "outputs": [
    {
     "data": {
      "text/plain": [
       "array([1, 3, 0, 2, 4])"
      ]
     },
     "execution_count": 7,
     "metadata": {},
     "output_type": "execute_result"
    }
   ],
   "source": [
    "# Encoding variabel Level. Since accompanying information (.xlsx file) said only 4 categories exist encoding with only 4\n",
    "jobs.Level.replace(['01', '03', '00', '02', '04', '4A', 'M3', 'M6', 'M4', 'M2', 'M1',\n",
    "       'M5', 'M7', 'M8', '2A', '4B', '1A', 'MY'], [1,3,0,2,4,4,3,6,4,2,1,5,7,8,2,4,1,0], inplace = True)\n",
    "jobs.groupby(['Level']).size()\n",
    "jobs.loc[jobs[\"Level\"] > 4, \"Level\"] = 4\n",
    "jobs.Level.unique()"
   ]
  },
  {
   "cell_type": "code",
   "execution_count": 1,
   "id": "b9198653",
   "metadata": {},
   "outputs": [
    {
     "ename": "NameError",
     "evalue": "name 'jobs' is not defined",
     "output_type": "error",
     "traceback": [
      "\u001b[0;31m---------------------------------------------------------------------------\u001b[0m",
      "\u001b[0;31mNameError\u001b[0m                                 Traceback (most recent call last)",
      "\u001b[0;32m/var/folders/v1/39txyj1100x4ydww7x2m4qq80000gn/T/ipykernel_12193/2462609439.py\u001b[0m in \u001b[0;36m<module>\u001b[0;34m\u001b[0m\n\u001b[0;32m----> 1\u001b[0;31m \u001b[0mjobs\u001b[0m\u001b[0;34m.\u001b[0m\u001b[0mgroupby\u001b[0m\u001b[0;34m(\u001b[0m\u001b[0;34m[\u001b[0m\u001b[0;34m'Level'\u001b[0m\u001b[0;34m]\u001b[0m\u001b[0;34m)\u001b[0m\u001b[0;34m.\u001b[0m\u001b[0msize\u001b[0m\u001b[0;34m(\u001b[0m\u001b[0;34m)\u001b[0m\u001b[0;34m\u001b[0m\u001b[0;34m\u001b[0m\u001b[0m\n\u001b[0m",
      "\u001b[0;31mNameError\u001b[0m: name 'jobs' is not defined"
     ]
    }
   ],
   "source": [
    "jobs.groupby(['Level']).size()"
   ]
  },
  {
   "cell_type": "code",
   "execution_count": 8,
   "id": "bfeb06f2",
   "metadata": {},
   "outputs": [
    {
     "data": {
      "text/plain": [
       "array([2., 3., 4., 5., 1.])"
      ]
     },
     "execution_count": 8,
     "metadata": {},
     "output_type": "execute_result"
    }
   ],
   "source": [
    "# Encoding Career Level and dealing with missing values (input to the largest category)\n",
    "jobs['Career Level'].replace(['Student','Entry-Level','Experienced (non-manager)','Manager','Executive'], [1,2,3,4,5], inplace = True)\n",
    "jobs.groupby(['Career Level']).size()\n",
    "# filling missing value with the most represented category\n",
    "jobs['Career Level'].fillna(3, inplace = True)\n",
    "jobs['Career Level'].unique()"
   ]
  },
  {
   "cell_type": "code",
   "execution_count": 9,
   "id": "72bdbe26",
   "metadata": {},
   "outputs": [],
   "source": [
    "# Dealing with the Salary variable that had different values related to Salary Frquency\n",
    "# making a copy of the column to modify\n",
    "jobs['Salary'] = jobs.loc[:, 'Salary Range To']\n",
    "# hourly is going to be 35 (most jobs on the data set were 35/week) hours per week * 52 weeks in one year = 1820\n",
    "jobs.loc[jobs['Salary Frequency'] == 'Hourly', 'Salary'] *= 1820\n",
    "# Daily is going to be 5 * 52 = 260\n",
    "jobs.loc[jobs['Salary Frequency'] == 'Daily', 'Salary'] *= 260"
   ]
  },
  {
   "cell_type": "code",
   "execution_count": 10,
   "id": "a1b58dc3",
   "metadata": {},
   "outputs": [
    {
     "data": {
      "text/plain": [
       "array([3, 2, 1])"
      ]
     },
     "execution_count": 10,
     "metadata": {},
     "output_type": "execute_result"
    }
   ],
   "source": [
    "# Encoding Salary frequency\n",
    "jobs['Salary Frequency'].replace(['Annual', 'Hourly', 'Daily'], [3,2,1], inplace = True)\n",
    "jobs['Salary Frequency'].unique()"
   ]
  },
  {
   "cell_type": "code",
   "execution_count": 11,
   "id": "02cf8597",
   "metadata": {},
   "outputs": [
    {
     "data": {
      "text/plain": [
       "count    5387.000000\n",
       "mean       28.403007\n",
       "std        74.759379\n",
       "min         0.000000\n",
       "25%         0.000000\n",
       "50%         0.000000\n",
       "75%        24.000000\n",
       "max      1462.000000\n",
       "Name: last modified, dtype: float64"
      ]
     },
     "execution_count": 11,
     "metadata": {},
     "output_type": "execute_result"
    }
   ],
   "source": [
    "# Dealing with Dates, making dataetime objects and getting the number of days between dates\n",
    "jobs['date1'] = pd.to_datetime(jobs['Posting Date'])\n",
    "jobs['date2'] = pd.to_datetime(jobs['Posting Updated'])\n",
    "jobs['last modified'] = (jobs['date2'] - jobs['date1']).dt.days\n",
    "jobs['last modified'].mask(jobs['last modified'] < 0, 0, inplace = True)\n",
    "jobs['last modified'].describe()"
   ]
  },
  {
   "cell_type": "code",
   "execution_count": 12,
   "id": "f13fee76",
   "metadata": {},
   "outputs": [],
   "source": [
    "# Encoding date as Month, Day, Year Columns (will drop Day at the end)\n",
    "jobs[['Month', 'Day', 'Year']] = jobs['Posting Date'].str.split('/', expand = True)\n",
    "# converting year to integer\n",
    "jobs['Year'] = jobs['Year'].astype('int')"
   ]
  },
  {
   "cell_type": "code",
   "execution_count": 16,
   "id": "8ec2c8b3",
   "metadata": {},
   "outputs": [],
   "source": [
    "#jobs['Minimum Qual Requirements'].value_counts()"
   ]
  },
  {
   "cell_type": "code",
   "execution_count": 17,
   "id": "6ce0636d",
   "metadata": {},
   "outputs": [
    {
     "data": {
      "text/plain": [
       "array([0, 1])"
      ]
     },
     "execution_count": 17,
     "metadata": {},
     "output_type": "execute_result"
    }
   ],
   "source": [
    "# Encoding Minimum Qual Requirements - masters 1 and no masters 0\n",
    "jobs['qual'] = np.where(jobs['Minimum Qual Requirements'].str.contains(r\"master's|master\"), 1, 0)\n",
    "jobs['qual'].unique()"
   ]
  },
  {
   "cell_type": "code",
   "execution_count": 18,
   "id": "3c5d139e",
   "metadata": {},
   "outputs": [
    {
     "data": {
      "text/html": [
       "<div>\n",
       "<style scoped>\n",
       "    .dataframe tbody tr th:only-of-type {\n",
       "        vertical-align: middle;\n",
       "    }\n",
       "\n",
       "    .dataframe tbody tr th {\n",
       "        vertical-align: top;\n",
       "    }\n",
       "\n",
       "    .dataframe thead th {\n",
       "        text-align: right;\n",
       "    }\n",
       "</style>\n",
       "<table border=\"1\" class=\"dataframe\">\n",
       "  <thead>\n",
       "    <tr style=\"text-align: right;\">\n",
       "      <th></th>\n",
       "      <th>Agency</th>\n",
       "      <th>Posting Type</th>\n",
       "      <th># Of Positions</th>\n",
       "      <th>Level</th>\n",
       "      <th>Job Category</th>\n",
       "      <th>Career Level</th>\n",
       "      <th>Salary Range From</th>\n",
       "      <th>Salary Range To</th>\n",
       "      <th>Salary Frequency</th>\n",
       "      <th>Minimum Qual Requirements</th>\n",
       "      <th>Posting Date</th>\n",
       "      <th>Posting Updated</th>\n",
       "      <th>Salary</th>\n",
       "      <th>date1</th>\n",
       "      <th>date2</th>\n",
       "      <th>last modified</th>\n",
       "      <th>Month</th>\n",
       "      <th>Day</th>\n",
       "      <th>Year</th>\n",
       "      <th>qual</th>\n",
       "    </tr>\n",
       "    <tr>\n",
       "      <th>Job ID</th>\n",
       "      <th></th>\n",
       "      <th></th>\n",
       "      <th></th>\n",
       "      <th></th>\n",
       "      <th></th>\n",
       "      <th></th>\n",
       "      <th></th>\n",
       "      <th></th>\n",
       "      <th></th>\n",
       "      <th></th>\n",
       "      <th></th>\n",
       "      <th></th>\n",
       "      <th></th>\n",
       "      <th></th>\n",
       "      <th></th>\n",
       "      <th></th>\n",
       "      <th></th>\n",
       "      <th></th>\n",
       "      <th></th>\n",
       "      <th></th>\n",
       "    </tr>\n",
       "  </thead>\n",
       "  <tbody>\n",
       "    <tr>\n",
       "      <th>554053</th>\n",
       "      <td>OFFICE OF MANAGEMENT &amp; BUDGET</td>\n",
       "      <td>0</td>\n",
       "      <td>2</td>\n",
       "      <td>1</td>\n",
       "      <td>Finance, Accounting, &amp; Procurement Policy, Res...</td>\n",
       "      <td>2.0</td>\n",
       "      <td>51550.0</td>\n",
       "      <td>73806.0</td>\n",
       "      <td>3</td>\n",
       "      <td>1. A baccalaureate degree from an accredited c...</td>\n",
       "      <td>10/04/2022</td>\n",
       "      <td>10/04/2022</td>\n",
       "      <td>73806.0</td>\n",
       "      <td>2022-10-04</td>\n",
       "      <td>2022-10-04</td>\n",
       "      <td>0</td>\n",
       "      <td>10</td>\n",
       "      <td>04</td>\n",
       "      <td>2022</td>\n",
       "      <td>0</td>\n",
       "    </tr>\n",
       "    <tr>\n",
       "      <th>546697</th>\n",
       "      <td>OFF OF PAYROLL ADMINISTRATION</td>\n",
       "      <td>1</td>\n",
       "      <td>1</td>\n",
       "      <td>1</td>\n",
       "      <td>Technology, Data &amp; Innovation Policy, Research...</td>\n",
       "      <td>3.0</td>\n",
       "      <td>51345.0</td>\n",
       "      <td>65000.0</td>\n",
       "      <td>3</td>\n",
       "      <td>1. A baccalaureate degree from an accredited c...</td>\n",
       "      <td>08/18/2022</td>\n",
       "      <td>08/18/2022</td>\n",
       "      <td>65000.0</td>\n",
       "      <td>2022-08-18</td>\n",
       "      <td>2022-08-18</td>\n",
       "      <td>0</td>\n",
       "      <td>08</td>\n",
       "      <td>18</td>\n",
       "      <td>2022</td>\n",
       "      <td>0</td>\n",
       "    </tr>\n",
       "    <tr>\n",
       "      <th>565942</th>\n",
       "      <td>DEPARTMENT OF TRANSPORTATION</td>\n",
       "      <td>0</td>\n",
       "      <td>1</td>\n",
       "      <td>3</td>\n",
       "      <td>Administration &amp; Human Resources Policy, Resea...</td>\n",
       "      <td>3.0</td>\n",
       "      <td>74650.0</td>\n",
       "      <td>109409.0</td>\n",
       "      <td>3</td>\n",
       "      <td>1. A master's degree in transportation enginee...</td>\n",
       "      <td>12/28/2022</td>\n",
       "      <td>12/28/2022</td>\n",
       "      <td>109409.0</td>\n",
       "      <td>2022-12-28</td>\n",
       "      <td>2022-12-28</td>\n",
       "      <td>0</td>\n",
       "      <td>12</td>\n",
       "      <td>28</td>\n",
       "      <td>2022</td>\n",
       "      <td>1</td>\n",
       "    </tr>\n",
       "    <tr>\n",
       "      <th>556917</th>\n",
       "      <td>DEPT OF ENVIRONMENT PROTECTION</td>\n",
       "      <td>1</td>\n",
       "      <td>1</td>\n",
       "      <td>0</td>\n",
       "      <td>Finance, Accounting, &amp; Procurement</td>\n",
       "      <td>3.0</td>\n",
       "      <td>65232.0</td>\n",
       "      <td>151810.0</td>\n",
       "      <td>3</td>\n",
       "      <td>1. A baccalaureate degree from an accredited c...</td>\n",
       "      <td>10/25/2022</td>\n",
       "      <td>10/26/2022</td>\n",
       "      <td>151810.0</td>\n",
       "      <td>2022-10-25</td>\n",
       "      <td>2022-10-26</td>\n",
       "      <td>1</td>\n",
       "      <td>10</td>\n",
       "      <td>25</td>\n",
       "      <td>2022</td>\n",
       "      <td>0</td>\n",
       "    </tr>\n",
       "    <tr>\n",
       "      <th>531091</th>\n",
       "      <td>LAW DEPARTMENT</td>\n",
       "      <td>1</td>\n",
       "      <td>1</td>\n",
       "      <td>0</td>\n",
       "      <td>Legal Affairs</td>\n",
       "      <td>3.0</td>\n",
       "      <td>73579.0</td>\n",
       "      <td>122643.0</td>\n",
       "      <td>3</td>\n",
       "      <td>Because our mission is to provide outstanding ...</td>\n",
       "      <td>05/05/2022</td>\n",
       "      <td>06/28/2022</td>\n",
       "      <td>122643.0</td>\n",
       "      <td>2022-05-05</td>\n",
       "      <td>2022-06-28</td>\n",
       "      <td>54</td>\n",
       "      <td>05</td>\n",
       "      <td>05</td>\n",
       "      <td>2022</td>\n",
       "      <td>0</td>\n",
       "    </tr>\n",
       "  </tbody>\n",
       "</table>\n",
       "</div>"
      ],
      "text/plain": [
       "                                Agency  Posting Type  # Of Positions  Level  \\\n",
       "Job ID                                                                        \n",
       "554053   OFFICE OF MANAGEMENT & BUDGET             0               2      1   \n",
       "546697   OFF OF PAYROLL ADMINISTRATION             1               1      1   \n",
       "565942    DEPARTMENT OF TRANSPORTATION             0               1      3   \n",
       "556917  DEPT OF ENVIRONMENT PROTECTION             1               1      0   \n",
       "531091                  LAW DEPARTMENT             1               1      0   \n",
       "\n",
       "                                             Job Category  Career Level  \\\n",
       "Job ID                                                                    \n",
       "554053  Finance, Accounting, & Procurement Policy, Res...           2.0   \n",
       "546697  Technology, Data & Innovation Policy, Research...           3.0   \n",
       "565942  Administration & Human Resources Policy, Resea...           3.0   \n",
       "556917                 Finance, Accounting, & Procurement           3.0   \n",
       "531091                                      Legal Affairs           3.0   \n",
       "\n",
       "        Salary Range From  Salary Range To  Salary Frequency  \\\n",
       "Job ID                                                         \n",
       "554053            51550.0          73806.0                 3   \n",
       "546697            51345.0          65000.0                 3   \n",
       "565942            74650.0         109409.0                 3   \n",
       "556917            65232.0         151810.0                 3   \n",
       "531091            73579.0         122643.0                 3   \n",
       "\n",
       "                                Minimum Qual Requirements Posting Date  \\\n",
       "Job ID                                                                   \n",
       "554053  1. A baccalaureate degree from an accredited c...   10/04/2022   \n",
       "546697  1. A baccalaureate degree from an accredited c...   08/18/2022   \n",
       "565942  1. A master's degree in transportation enginee...   12/28/2022   \n",
       "556917  1. A baccalaureate degree from an accredited c...   10/25/2022   \n",
       "531091  Because our mission is to provide outstanding ...   05/05/2022   \n",
       "\n",
       "       Posting Updated    Salary      date1      date2  last modified Month  \\\n",
       "Job ID                                                                        \n",
       "554053      10/04/2022   73806.0 2022-10-04 2022-10-04              0    10   \n",
       "546697      08/18/2022   65000.0 2022-08-18 2022-08-18              0    08   \n",
       "565942      12/28/2022  109409.0 2022-12-28 2022-12-28              0    12   \n",
       "556917      10/26/2022  151810.0 2022-10-25 2022-10-26              1    10   \n",
       "531091      06/28/2022  122643.0 2022-05-05 2022-06-28             54    05   \n",
       "\n",
       "       Day  Year  qual  \n",
       "Job ID                  \n",
       "554053  04  2022     0  \n",
       "546697  18  2022     0  \n",
       "565942  28  2022     1  \n",
       "556917  25  2022     0  \n",
       "531091  05  2022     0  "
      ]
     },
     "execution_count": 18,
     "metadata": {},
     "output_type": "execute_result"
    }
   ],
   "source": [
    "jobs.head()"
   ]
  },
  {
   "cell_type": "code",
   "execution_count": 19,
   "id": "3b37cb8b",
   "metadata": {},
   "outputs": [
    {
     "data": {
      "text/plain": [
       "24    770\n",
       "35    509\n",
       "25    495\n",
       "45    361\n",
       "21    339\n",
       "16    306\n",
       "0     194\n",
       "26    186\n",
       "38    177\n",
       "34    175\n",
       "23    161\n",
       "32    137\n",
       "52    136\n",
       "53    109\n",
       "5     106\n",
       "29    106\n",
       "33    102\n",
       "28     97\n",
       "10     90\n",
       "50     86\n",
       "56     85\n",
       "15     68\n",
       "22     56\n",
       "14     52\n",
       "36     46\n",
       "48     40\n",
       "13     38\n",
       "1      36\n",
       "17     28\n",
       "31     28\n",
       "44     26\n",
       "18     26\n",
       "58     24\n",
       "12     22\n",
       "20     20\n",
       "47     18\n",
       "19     17\n",
       "7      14\n",
       "57     14\n",
       "9      13\n",
       "42     12\n",
       "46      9\n",
       "54      6\n",
       "49      6\n",
       "30      6\n",
       "11      4\n",
       "43      4\n",
       "3       4\n",
       "55      3\n",
       "27      2\n",
       "51      2\n",
       "41      2\n",
       "37      2\n",
       "8       2\n",
       "6       2\n",
       "2       2\n",
       "4       2\n",
       "40      2\n",
       "39      2\n",
       "Name: Agency, dtype: int64"
      ]
     },
     "execution_count": 19,
     "metadata": {},
     "output_type": "execute_result"
    }
   ],
   "source": [
    "# Encoding Angency - might not use so will not deal with number of categories right now\n",
    "from sklearn.preprocessing import LabelEncoder\n",
    "labelencoder = LabelEncoder()\n",
    "jobs['Agency'] = labelencoder.fit_transform(jobs['Agency'])\n",
    "jobs['Agency'].value_counts()"
   ]
  },
  {
   "cell_type": "code",
   "execution_count": 20,
   "id": "a1e7cef4",
   "metadata": {},
   "outputs": [
    {
     "data": {
      "text/html": [
       "<div>\n",
       "<style scoped>\n",
       "    .dataframe tbody tr th:only-of-type {\n",
       "        vertical-align: middle;\n",
       "    }\n",
       "\n",
       "    .dataframe tbody tr th {\n",
       "        vertical-align: top;\n",
       "    }\n",
       "\n",
       "    .dataframe thead th {\n",
       "        text-align: right;\n",
       "    }\n",
       "</style>\n",
       "<table border=\"1\" class=\"dataframe\">\n",
       "  <thead>\n",
       "    <tr style=\"text-align: right;\">\n",
       "      <th></th>\n",
       "      <th>Agency</th>\n",
       "      <th>Posting Type</th>\n",
       "      <th># Of Positions</th>\n",
       "      <th>Level</th>\n",
       "      <th>Job Category</th>\n",
       "      <th>Career Level</th>\n",
       "      <th>Salary Range From</th>\n",
       "      <th>Salary Range To</th>\n",
       "      <th>Salary Frequency</th>\n",
       "      <th>Minimum Qual Requirements</th>\n",
       "      <th>Posting Date</th>\n",
       "      <th>Posting Updated</th>\n",
       "      <th>Salary</th>\n",
       "      <th>date1</th>\n",
       "      <th>date2</th>\n",
       "      <th>last modified</th>\n",
       "      <th>Month</th>\n",
       "      <th>Day</th>\n",
       "      <th>Year</th>\n",
       "      <th>qual</th>\n",
       "    </tr>\n",
       "    <tr>\n",
       "      <th>Job ID</th>\n",
       "      <th></th>\n",
       "      <th></th>\n",
       "      <th></th>\n",
       "      <th></th>\n",
       "      <th></th>\n",
       "      <th></th>\n",
       "      <th></th>\n",
       "      <th></th>\n",
       "      <th></th>\n",
       "      <th></th>\n",
       "      <th></th>\n",
       "      <th></th>\n",
       "      <th></th>\n",
       "      <th></th>\n",
       "      <th></th>\n",
       "      <th></th>\n",
       "      <th></th>\n",
       "      <th></th>\n",
       "      <th></th>\n",
       "      <th></th>\n",
       "    </tr>\n",
       "  </thead>\n",
       "  <tbody>\n",
       "    <tr>\n",
       "      <th>554053</th>\n",
       "      <td>50</td>\n",
       "      <td>0</td>\n",
       "      <td>2</td>\n",
       "      <td>1</td>\n",
       "      <td>Finance, Accounting, &amp; Procurement Policy, Res...</td>\n",
       "      <td>2.0</td>\n",
       "      <td>51550.0</td>\n",
       "      <td>73806.0</td>\n",
       "      <td>3</td>\n",
       "      <td>1. A baccalaureate degree from an accredited c...</td>\n",
       "      <td>10/04/2022</td>\n",
       "      <td>10/04/2022</td>\n",
       "      <td>73806.0</td>\n",
       "      <td>2022-10-04</td>\n",
       "      <td>2022-10-04</td>\n",
       "      <td>0</td>\n",
       "      <td>10</td>\n",
       "      <td>04</td>\n",
       "      <td>2022</td>\n",
       "      <td>0</td>\n",
       "    </tr>\n",
       "    <tr>\n",
       "      <th>546697</th>\n",
       "      <td>47</td>\n",
       "      <td>1</td>\n",
       "      <td>1</td>\n",
       "      <td>1</td>\n",
       "      <td>Technology, Data &amp; Innovation Policy, Research...</td>\n",
       "      <td>3.0</td>\n",
       "      <td>51345.0</td>\n",
       "      <td>65000.0</td>\n",
       "      <td>3</td>\n",
       "      <td>1. A baccalaureate degree from an accredited c...</td>\n",
       "      <td>08/18/2022</td>\n",
       "      <td>08/18/2022</td>\n",
       "      <td>65000.0</td>\n",
       "      <td>2022-08-18</td>\n",
       "      <td>2022-08-18</td>\n",
       "      <td>0</td>\n",
       "      <td>08</td>\n",
       "      <td>18</td>\n",
       "      <td>2022</td>\n",
       "      <td>0</td>\n",
       "    </tr>\n",
       "    <tr>\n",
       "      <th>565942</th>\n",
       "      <td>21</td>\n",
       "      <td>0</td>\n",
       "      <td>1</td>\n",
       "      <td>3</td>\n",
       "      <td>Administration &amp; Human Resources Policy, Resea...</td>\n",
       "      <td>3.0</td>\n",
       "      <td>74650.0</td>\n",
       "      <td>109409.0</td>\n",
       "      <td>3</td>\n",
       "      <td>1. A master's degree in transportation enginee...</td>\n",
       "      <td>12/28/2022</td>\n",
       "      <td>12/28/2022</td>\n",
       "      <td>109409.0</td>\n",
       "      <td>2022-12-28</td>\n",
       "      <td>2022-12-28</td>\n",
       "      <td>0</td>\n",
       "      <td>12</td>\n",
       "      <td>28</td>\n",
       "      <td>2022</td>\n",
       "      <td>1</td>\n",
       "    </tr>\n",
       "    <tr>\n",
       "      <th>556917</th>\n",
       "      <td>24</td>\n",
       "      <td>1</td>\n",
       "      <td>1</td>\n",
       "      <td>0</td>\n",
       "      <td>Finance, Accounting, &amp; Procurement</td>\n",
       "      <td>3.0</td>\n",
       "      <td>65232.0</td>\n",
       "      <td>151810.0</td>\n",
       "      <td>3</td>\n",
       "      <td>1. A baccalaureate degree from an accredited c...</td>\n",
       "      <td>10/25/2022</td>\n",
       "      <td>10/26/2022</td>\n",
       "      <td>151810.0</td>\n",
       "      <td>2022-10-25</td>\n",
       "      <td>2022-10-26</td>\n",
       "      <td>1</td>\n",
       "      <td>10</td>\n",
       "      <td>25</td>\n",
       "      <td>2022</td>\n",
       "      <td>0</td>\n",
       "    </tr>\n",
       "    <tr>\n",
       "      <th>531091</th>\n",
       "      <td>38</td>\n",
       "      <td>1</td>\n",
       "      <td>1</td>\n",
       "      <td>0</td>\n",
       "      <td>Legal Affairs</td>\n",
       "      <td>3.0</td>\n",
       "      <td>73579.0</td>\n",
       "      <td>122643.0</td>\n",
       "      <td>3</td>\n",
       "      <td>Because our mission is to provide outstanding ...</td>\n",
       "      <td>05/05/2022</td>\n",
       "      <td>06/28/2022</td>\n",
       "      <td>122643.0</td>\n",
       "      <td>2022-05-05</td>\n",
       "      <td>2022-06-28</td>\n",
       "      <td>54</td>\n",
       "      <td>05</td>\n",
       "      <td>05</td>\n",
       "      <td>2022</td>\n",
       "      <td>0</td>\n",
       "    </tr>\n",
       "  </tbody>\n",
       "</table>\n",
       "</div>"
      ],
      "text/plain": [
       "        Agency  Posting Type  # Of Positions  Level  \\\n",
       "Job ID                                                \n",
       "554053      50             0               2      1   \n",
       "546697      47             1               1      1   \n",
       "565942      21             0               1      3   \n",
       "556917      24             1               1      0   \n",
       "531091      38             1               1      0   \n",
       "\n",
       "                                             Job Category  Career Level  \\\n",
       "Job ID                                                                    \n",
       "554053  Finance, Accounting, & Procurement Policy, Res...           2.0   \n",
       "546697  Technology, Data & Innovation Policy, Research...           3.0   \n",
       "565942  Administration & Human Resources Policy, Resea...           3.0   \n",
       "556917                 Finance, Accounting, & Procurement           3.0   \n",
       "531091                                      Legal Affairs           3.0   \n",
       "\n",
       "        Salary Range From  Salary Range To  Salary Frequency  \\\n",
       "Job ID                                                         \n",
       "554053            51550.0          73806.0                 3   \n",
       "546697            51345.0          65000.0                 3   \n",
       "565942            74650.0         109409.0                 3   \n",
       "556917            65232.0         151810.0                 3   \n",
       "531091            73579.0         122643.0                 3   \n",
       "\n",
       "                                Minimum Qual Requirements Posting Date  \\\n",
       "Job ID                                                                   \n",
       "554053  1. A baccalaureate degree from an accredited c...   10/04/2022   \n",
       "546697  1. A baccalaureate degree from an accredited c...   08/18/2022   \n",
       "565942  1. A master's degree in transportation enginee...   12/28/2022   \n",
       "556917  1. A baccalaureate degree from an accredited c...   10/25/2022   \n",
       "531091  Because our mission is to provide outstanding ...   05/05/2022   \n",
       "\n",
       "       Posting Updated    Salary      date1      date2  last modified Month  \\\n",
       "Job ID                                                                        \n",
       "554053      10/04/2022   73806.0 2022-10-04 2022-10-04              0    10   \n",
       "546697      08/18/2022   65000.0 2022-08-18 2022-08-18              0    08   \n",
       "565942      12/28/2022  109409.0 2022-12-28 2022-12-28              0    12   \n",
       "556917      10/26/2022  151810.0 2022-10-25 2022-10-26              1    10   \n",
       "531091      06/28/2022  122643.0 2022-05-05 2022-06-28             54    05   \n",
       "\n",
       "       Day  Year  qual  \n",
       "Job ID                  \n",
       "554053  04  2022     0  \n",
       "546697  18  2022     0  \n",
       "565942  28  2022     1  \n",
       "556917  25  2022     0  \n",
       "531091  05  2022     0  "
      ]
     },
     "execution_count": 20,
     "metadata": {},
     "output_type": "execute_result"
    }
   ],
   "source": [
    "jobs.head()"
   ]
  },
  {
   "cell_type": "markdown",
   "id": "b63f2805-9e7b-4da1-9055-3ed9725eff07",
   "metadata": {},
   "source": [
    "Job Category - tech and non tech - find words technology, data, innovation, analysis, research for tech"
   ]
  },
  {
   "cell_type": "code",
   "execution_count": 22,
   "id": "4151cd37",
   "metadata": {},
   "outputs": [],
   "source": [
    "#jobs['Job Category'].value_counts()"
   ]
  },
  {
   "cell_type": "code",
   "execution_count": 23,
   "id": "1baa3147",
   "metadata": {},
   "outputs": [
    {
     "data": {
      "text/plain": [
       "array([1, 0])"
      ]
     },
     "execution_count": 23,
     "metadata": {},
     "output_type": "execute_result"
    }
   ],
   "source": [
    "# Encoding Job Category - where contains value 1 (tech) and not value 0 (non-tech)\n",
    "#terms = ['Technology', 'Research', 'Data', 'Analysis' , 'Innovation', 'Research']\n",
    "#df4[df4['col'].str.contains('|'.join(terms))] - to test I used pd.Series() so I could print\n",
    "jobs['category'] = np.where(jobs['Job Category'].str.contains(r'Technology|Research|Data|Analysis|Innovation|Research'), 1, 0)\n",
    "jobs['category'].unique()"
   ]
  },
  {
   "cell_type": "markdown",
   "id": "b9c2583b",
   "metadata": {},
   "source": [
    "\n",
    "Agency would benefit from getting the number of categories smaller!"
   ]
  },
  {
   "cell_type": "code",
   "execution_count": 24,
   "id": "cd460096",
   "metadata": {},
   "outputs": [],
   "source": [
    "# Dropping final columns that were not of interest anymore\n",
    "jobs.drop(['Minimum Qual Requirements','Salary Range From',\n",
    "           'Salary Range To','Month', 'Day','Posting Date',\n",
    "          'Posting Updated','date2','Job Category'], axis=1, inplace=True)"
   ]
  },
  {
   "cell_type": "code",
   "execution_count": 25,
   "id": "69b71358",
   "metadata": {},
   "outputs": [
    {
     "data": {
      "text/plain": [
       "Agency                       int64\n",
       "Posting Type                 int64\n",
       "# Of Positions               int64\n",
       "Level                        int64\n",
       "Career Level               float64\n",
       "Salary Frequency             int64\n",
       "Salary                     float64\n",
       "date1               datetime64[ns]\n",
       "last modified                int64\n",
       "Year                         int64\n",
       "qual                         int64\n",
       "category                     int64\n",
       "dtype: object"
      ]
     },
     "execution_count": 25,
     "metadata": {},
     "output_type": "execute_result"
    }
   ],
   "source": [
    "# Checking types to be sure all are numeric or datetime\n",
    "jobs.dtypes"
   ]
  },
  {
   "cell_type": "code",
   "execution_count": 26,
   "id": "cd30d3d2",
   "metadata": {},
   "outputs": [
    {
     "data": {
      "text/html": [
       "<div>\n",
       "<style scoped>\n",
       "    .dataframe tbody tr th:only-of-type {\n",
       "        vertical-align: middle;\n",
       "    }\n",
       "\n",
       "    .dataframe tbody tr th {\n",
       "        vertical-align: top;\n",
       "    }\n",
       "\n",
       "    .dataframe thead th {\n",
       "        text-align: right;\n",
       "    }\n",
       "</style>\n",
       "<table border=\"1\" class=\"dataframe\">\n",
       "  <thead>\n",
       "    <tr style=\"text-align: right;\">\n",
       "      <th></th>\n",
       "      <th>Agency</th>\n",
       "      <th>Posting Type</th>\n",
       "      <th># Of Positions</th>\n",
       "      <th>Level</th>\n",
       "      <th>Career Level</th>\n",
       "      <th>Salary Frequency</th>\n",
       "      <th>Salary</th>\n",
       "      <th>last modified</th>\n",
       "      <th>Year</th>\n",
       "      <th>qual</th>\n",
       "      <th>category</th>\n",
       "    </tr>\n",
       "  </thead>\n",
       "  <tbody>\n",
       "    <tr>\n",
       "      <th>count</th>\n",
       "      <td>5387.000000</td>\n",
       "      <td>5387.000000</td>\n",
       "      <td>5387.000000</td>\n",
       "      <td>5387.000000</td>\n",
       "      <td>5387.000000</td>\n",
       "      <td>5387.000000</td>\n",
       "      <td>5387.000000</td>\n",
       "      <td>5387.000000</td>\n",
       "      <td>5387.000000</td>\n",
       "      <td>5387.000000</td>\n",
       "      <td>5387.000000</td>\n",
       "    </tr>\n",
       "    <tr>\n",
       "      <th>mean</th>\n",
       "      <td>28.201782</td>\n",
       "      <td>0.463338</td>\n",
       "      <td>2.132170</td>\n",
       "      <td>1.302209</td>\n",
       "      <td>3.034528</td>\n",
       "      <td>2.948580</td>\n",
       "      <td>92023.629211</td>\n",
       "      <td>28.403007</td>\n",
       "      <td>2021.956191</td>\n",
       "      <td>0.229256</td>\n",
       "      <td>0.243549</td>\n",
       "    </tr>\n",
       "    <tr>\n",
       "      <th>std</th>\n",
       "      <td>12.974264</td>\n",
       "      <td>0.498700</td>\n",
       "      <td>7.241753</td>\n",
       "      <td>1.318975</td>\n",
       "      <td>0.542234</td>\n",
       "      <td>0.263075</td>\n",
       "      <td>37637.871404</td>\n",
       "      <td>74.759379</td>\n",
       "      <td>0.848500</td>\n",
       "      <td>0.420393</td>\n",
       "      <td>0.429264</td>\n",
       "    </tr>\n",
       "    <tr>\n",
       "      <th>min</th>\n",
       "      <td>0.000000</td>\n",
       "      <td>0.000000</td>\n",
       "      <td>1.000000</td>\n",
       "      <td>0.000000</td>\n",
       "      <td>1.000000</td>\n",
       "      <td>1.000000</td>\n",
       "      <td>28119.000000</td>\n",
       "      <td>0.000000</td>\n",
       "      <td>2011.000000</td>\n",
       "      <td>0.000000</td>\n",
       "      <td>0.000000</td>\n",
       "    </tr>\n",
       "    <tr>\n",
       "      <th>25%</th>\n",
       "      <td>21.000000</td>\n",
       "      <td>0.000000</td>\n",
       "      <td>1.000000</td>\n",
       "      <td>0.000000</td>\n",
       "      <td>3.000000</td>\n",
       "      <td>3.000000</td>\n",
       "      <td>64177.000000</td>\n",
       "      <td>0.000000</td>\n",
       "      <td>2022.000000</td>\n",
       "      <td>0.000000</td>\n",
       "      <td>0.000000</td>\n",
       "    </tr>\n",
       "    <tr>\n",
       "      <th>50%</th>\n",
       "      <td>25.000000</td>\n",
       "      <td>0.000000</td>\n",
       "      <td>1.000000</td>\n",
       "      <td>1.000000</td>\n",
       "      <td>3.000000</td>\n",
       "      <td>3.000000</td>\n",
       "      <td>83981.000000</td>\n",
       "      <td>0.000000</td>\n",
       "      <td>2022.000000</td>\n",
       "      <td>0.000000</td>\n",
       "      <td>0.000000</td>\n",
       "    </tr>\n",
       "    <tr>\n",
       "      <th>75%</th>\n",
       "      <td>35.000000</td>\n",
       "      <td>1.000000</td>\n",
       "      <td>1.000000</td>\n",
       "      <td>2.000000</td>\n",
       "      <td>3.000000</td>\n",
       "      <td>3.000000</td>\n",
       "      <td>110000.000000</td>\n",
       "      <td>24.000000</td>\n",
       "      <td>2022.000000</td>\n",
       "      <td>0.000000</td>\n",
       "      <td>0.000000</td>\n",
       "    </tr>\n",
       "    <tr>\n",
       "      <th>max</th>\n",
       "      <td>58.000000</td>\n",
       "      <td>1.000000</td>\n",
       "      <td>200.000000</td>\n",
       "      <td>4.000000</td>\n",
       "      <td>5.000000</td>\n",
       "      <td>3.000000</td>\n",
       "      <td>265000.000000</td>\n",
       "      <td>1462.000000</td>\n",
       "      <td>2023.000000</td>\n",
       "      <td>1.000000</td>\n",
       "      <td>1.000000</td>\n",
       "    </tr>\n",
       "  </tbody>\n",
       "</table>\n",
       "</div>"
      ],
      "text/plain": [
       "            Agency  Posting Type  # Of Positions        Level  Career Level  \\\n",
       "count  5387.000000   5387.000000     5387.000000  5387.000000   5387.000000   \n",
       "mean     28.201782      0.463338        2.132170     1.302209      3.034528   \n",
       "std      12.974264      0.498700        7.241753     1.318975      0.542234   \n",
       "min       0.000000      0.000000        1.000000     0.000000      1.000000   \n",
       "25%      21.000000      0.000000        1.000000     0.000000      3.000000   \n",
       "50%      25.000000      0.000000        1.000000     1.000000      3.000000   \n",
       "75%      35.000000      1.000000        1.000000     2.000000      3.000000   \n",
       "max      58.000000      1.000000      200.000000     4.000000      5.000000   \n",
       "\n",
       "       Salary Frequency         Salary  last modified         Year  \\\n",
       "count       5387.000000    5387.000000    5387.000000  5387.000000   \n",
       "mean           2.948580   92023.629211      28.403007  2021.956191   \n",
       "std            0.263075   37637.871404      74.759379     0.848500   \n",
       "min            1.000000   28119.000000       0.000000  2011.000000   \n",
       "25%            3.000000   64177.000000       0.000000  2022.000000   \n",
       "50%            3.000000   83981.000000       0.000000  2022.000000   \n",
       "75%            3.000000  110000.000000      24.000000  2022.000000   \n",
       "max            3.000000  265000.000000    1462.000000  2023.000000   \n",
       "\n",
       "              qual     category  \n",
       "count  5387.000000  5387.000000  \n",
       "mean      0.229256     0.243549  \n",
       "std       0.420393     0.429264  \n",
       "min       0.000000     0.000000  \n",
       "25%       0.000000     0.000000  \n",
       "50%       0.000000     0.000000  \n",
       "75%       0.000000     0.000000  \n",
       "max       1.000000     1.000000  "
      ]
     },
     "execution_count": 26,
     "metadata": {},
     "output_type": "execute_result"
    }
   ],
   "source": [
    "# Taking a final look at the data\n",
    "jobs.describe()"
   ]
  },
  {
   "cell_type": "code",
   "execution_count": 27,
   "id": "d8ae966b",
   "metadata": {},
   "outputs": [
    {
     "name": "stdout",
     "output_type": "stream",
     "text": [
      "Mising values per column:\n"
     ]
    },
    {
     "data": {
      "text/html": [
       "<div>\n",
       "<style scoped>\n",
       "    .dataframe tbody tr th:only-of-type {\n",
       "        vertical-align: middle;\n",
       "    }\n",
       "\n",
       "    .dataframe tbody tr th {\n",
       "        vertical-align: top;\n",
       "    }\n",
       "\n",
       "    .dataframe thead th {\n",
       "        text-align: right;\n",
       "    }\n",
       "</style>\n",
       "<table border=\"1\" class=\"dataframe\">\n",
       "  <thead>\n",
       "    <tr style=\"text-align: right;\">\n",
       "      <th></th>\n",
       "      <th>Missing</th>\n",
       "      <th>Percent</th>\n",
       "    </tr>\n",
       "  </thead>\n",
       "  <tbody>\n",
       "  </tbody>\n",
       "</table>\n",
       "</div>"
      ],
      "text/plain": [
       "Empty DataFrame\n",
       "Columns: [Missing, Percent]\n",
       "Index: []"
      ]
     },
     "metadata": {},
     "output_type": "display_data"
    }
   ],
   "source": [
    "# Check missing again\n",
    "missing_val_count_by_column = pd.DataFrame(data=jobs.isnull().sum(), columns=[\"Missing\"])\n",
    "missing_val_count_by_column[\"Percent\"]= missing_val_count_by_column[\"Missing\"] / jobs.shape[0] * 100\n",
    "\n",
    "print(\"Mising values per column:\")\n",
    "\n",
    "df=missing_val_count_by_column.loc[(missing_val_count_by_column!=0).any(axis=1)]\n",
    "display(df)"
   ]
  },
  {
   "cell_type": "code",
   "execution_count": 28,
   "id": "25d93aa2",
   "metadata": {},
   "outputs": [
    {
     "data": {
      "text/plain": [
       "['Agency',\n",
       " 'Posting Type',\n",
       " '# Of Positions',\n",
       " 'Level',\n",
       " 'Career Level',\n",
       " 'Salary Frequency',\n",
       " 'Salary',\n",
       " 'date1',\n",
       " 'last modified',\n",
       " 'Year',\n",
       " 'qual',\n",
       " 'category']"
      ]
     },
     "execution_count": 28,
     "metadata": {},
     "output_type": "execute_result"
    }
   ],
   "source": [
    "list(jobs.columns)"
   ]
  },
  {
   "cell_type": "code",
   "execution_count": 29,
   "id": "b2a1b959",
   "metadata": {},
   "outputs": [],
   "source": [
    "# Saving data to a .csv format for analysis\n",
    "#jobs.to_csv('jobsProcessedFinalRe.csv', index=False)"
   ]
  },
  {
   "cell_type": "code",
   "execution_count": 30,
   "id": "03495ff1-c9a4-4bb6-8a80-9c58d098e064",
   "metadata": {},
   "outputs": [],
   "source": [
    "data = jobs.copy()"
   ]
  },
  {
   "cell_type": "code",
   "execution_count": 31,
   "id": "bb4678a3-cd03-46e3-bc95-ec4b38ffa9d1",
   "metadata": {},
   "outputs": [],
   "source": [
    "import matplotlib.pyplot as plt\n",
    "import datetime as dt\n",
    "data['month']=None\n",
    "data['month'] = pd.DatetimeIndex(data['date1']).month\n",
    " "
   ]
  },
  {
   "cell_type": "code",
   "execution_count": 32,
   "id": "5f3f1364-2fd0-4337-a458-4dff4925ad9c",
   "metadata": {},
   "outputs": [
    {
     "data": {
      "text/plain": [
       "<BarContainer object of 5387 artists>"
      ]
     },
     "execution_count": 32,
     "metadata": {},
     "output_type": "execute_result"
    },
    {
     "data": {
      "image/png": "[encoded data removed]",
      "text/plain": [
       "<Figure size 432x288 with 1 Axes>"
      ]
     },
     "metadata": {
      "needs_background": "light"
     },
     "output_type": "display_data"
    }
   ],
   "source": [
    "plt.bar(data['month'],data['# Of Positions'])\n"
   ]
  },
  {
   "cell_type": "code",
   "execution_count": 33,
   "id": "1c87374f-243a-4e27-ac09-4a107d6f71da",
   "metadata": {},
   "outputs": [
    {
     "name": "stdout",
     "output_type": "stream",
     "text": [
      "{1: 522, 2: 67, 3: 69, 4: 143, 5: 147, 6: 252, 7: 356, 8: 299, 9: 344, 10: 446, 11: 536, 12: 894}\n",
      "{1: 99, 2: 19, 3: 31, 4: 37, 5: 44, 6: 61, 7: 92, 8: 180, 9: 110, 10: 178, 11: 200, 12: 261}\n"
     ]
    }
   ],
   "source": [
    "month_details_1={1:0,2:0,3:0,4:0,5:0,6:0,7:0,8:0,9:0,10:0,11:0,12:0} #dictionary of each month of tech jobs\n",
    "month_details_0={1:0,2:0,3:0,4:0,5:0,6:0,7:0,8:0,9:0,10:0,11:0,12:0}  #dictionary of each month of non tech jobs\n",
    "for index, row in data.iterrows():\n",
    "    #print(row[\"Name\"], row[\"Age\"])\n",
    "    if(row['category']==1):\n",
    "      month_details_1[row['month']]+=1\n",
    "    else:\n",
    "      month_details_0[row['month']]+=1\n",
    "\n",
    "print(month_details_0)\n",
    "print(month_details_1)\n"
   ]
  },
  {
   "cell_type": "markdown",
   "id": "b6d73029-fb99-4507-ab15-77c9569e6935",
   "metadata": {},
   "source": [
    "bar plot of no.of tech and non tech jobs according to indiviual months in 2022 in nyc"
   ]
  },
  {
   "cell_type": "code",
   "execution_count": 34,
   "id": "f526071e-5f47-42ad-8a5c-e86bca0a337b",
   "metadata": {},
   "outputs": [
    {
     "name": "stdout",
     "output_type": "stream",
     "text": [
      "dict_keys([1, 2, 3, 4, 5, 6, 7, 8, 9, 10, 11, 12])\n",
      "dict_values([522, 67, 69, 143, 147, 252, 356, 299, 344, 446, 536, 894])\n"
     ]
    }
   ],
   "source": [
    "print(month_details_0.keys())\n",
    "print(month_details_0.values())"
   ]
  },
  {
   "cell_type": "code",
   "execution_count": 35,
   "id": "491e9202-da39-4964-9d23-f36b0ddca81d",
   "metadata": {},
   "outputs": [
    {
     "data": {
      "image/png": "[encoded data removed]",
      "text/plain": [
       "<Figure size 432x288 with 1 Axes>"
      ]
     },
     "metadata": {
      "needs_background": "light"
     },
     "output_type": "display_data"
    }
   ],
   "source": [
    "plt.bar(month_details_0.keys(),month_details_0.values(),color='orange', edgecolor='white', label='non-Tech')\n",
    "plt.bar(month_details_1.keys(),month_details_1.values(),color='red', edgecolor='white', label='Tech')\n",
    "\n",
    "#x=month_details_0.keys()\n",
    "#y_tech=month_details_0.values()\n",
    "#z_non_tech=month_details_1.values()\n",
    "\n",
    "#plt.bar(x,y_tech,0.4,label='Tech')\n",
    "#plt.bar(x,z_non_tech,0.4,label='Non-Tech')\n",
    "plt.xlabel('Month', fontweight='bold')\n",
    "plt.ylabel('jobs_posted',fontweight='bold')\n",
    "plt.legend()\n",
    "plt.show()"
   ]
  },
  {
   "cell_type": "markdown",
   "id": "956f8f02-b047-4e0f-bfe4-d37318b5b379",
   "metadata": {},
   "source": [
    "The above plot indicates no.of jobs posted in particular months of 2022\n",
    "\n",
    "Below I am trying to plot no.of total positions in particular field posted in particular months"
   ]
  },
  {
   "cell_type": "code",
   "execution_count": 36,
   "id": "053c8b66-bb37-4882-ba90-62e15d62d05f",
   "metadata": {},
   "outputs": [
    {
     "name": "stdout",
     "output_type": "stream",
     "text": [
      "non-tech  {1: 819, 2: 137, 3: 357, 4: 349, 5: 287, 6: 799, 7: 1305, 8: 603, 9: 1643, 10: 834, 11: 919, 12: 1639}\n",
      "tech  {1: 105, 2: 25, 3: 39, 4: 39, 5: 70, 6: 79, 7: 154, 8: 258, 9: 173, 10: 206, 11: 288, 12: 359}\n"
     ]
    }
   ],
   "source": [
    "month_details_1_totalpos={1:0,2:0,3:0,4:0,5:0,6:0,7:0,8:0,9:0,10:0,11:0,12:0} #dictionary of each month of tech jobs\n",
    "month_details_0_totalpos={1:0,2:0,3:0,4:0,5:0,6:0,7:0,8:0,9:0,10:0,11:0,12:0}  #dictionary of each month of non tech jobs\n",
    "for index, row in data.iterrows():\n",
    "    #print(row[\"Name\"], row[\"Age\"])\n",
    "    if(row['category']==1):\n",
    "      month_details_1_totalpos[row['month']]=month_details_1_totalpos[row['month']]+row['# Of Positions']\n",
    "    else:\n",
    "      month_details_0_totalpos[row['month']]=month_details_0_totalpos[row['month']]+row['# Of Positions']\n",
    "\n",
    "print(\"non-tech \",month_details_0_totalpos)\n",
    "print(\"tech \",month_details_1_totalpos)\n"
   ]
  },
  {
   "cell_type": "code",
   "execution_count": 37,
   "id": "9b9abcef-ce74-42db-9272-ef7a4a0afd71",
   "metadata": {},
   "outputs": [
    {
     "name": "stdout",
     "output_type": "stream",
     "text": [
      "11486\n"
     ]
    }
   ],
   "source": [
    "print(sum(data['# Of Positions']))"
   ]
  },
  {
   "cell_type": "code",
   "execution_count": 38,
   "id": "310748bc-36b7-471f-b830-a141c6b1239d",
   "metadata": {},
   "outputs": [
    {
     "name": "stdout",
     "output_type": "stream",
     "text": [
      "total nontech jobs  9691\n",
      "total tech jobs  1795\n"
     ]
    }
   ],
   "source": [
    "print(\"total nontech jobs \",sum(month_details_0_totalpos.values()))\n",
    "print(\"total tech jobs \",sum(month_details_1_totalpos.values()))"
   ]
  },
  {
   "cell_type": "code",
   "execution_count": 39,
   "id": "e42f6a13-a110-44ba-b1a7-ad9dd921dd97",
   "metadata": {},
   "outputs": [
    {
     "data": {
      "image/png": "[encoded data removed]",
      "text/plain": [
       "<Figure size 432x288 with 1 Axes>"
      ]
     },
     "metadata": {
      "needs_background": "light"
     },
     "output_type": "display_data"
    }
   ],
   "source": [
    "plt.bar(month_details_0_totalpos.keys(),month_details_0_totalpos.values(),color='blue', edgecolor='white', label='non-Tech')\n",
    "plt.bar(month_details_1_totalpos.keys(),month_details_1_totalpos.values(),color='yellow', edgecolor='white', label='Tech')\n",
    "\n",
    "plt.xlabel('Month', fontweight='bold')\n",
    "plt.ylabel('sum no of positions offered',fontweight='bold')\n",
    "plt.legend()\n",
    "plt.show()"
   ]
  },
  {
   "cell_type": "markdown",
   "id": "677483e9-ec4f-4b66-8f7e-0d51152e0828",
   "metadata": {},
   "source": [
    "so the most no. of positions offered are in months of december and september\n",
    "\n",
    "Trying to plot the different salaray ranges of tech and non tech jobs in nyc"
   ]
  },
  {
   "cell_type": "code",
   "execution_count": 40,
   "id": "7c8319d4-cd4a-4ca2-b534-993932f5d290",
   "metadata": {},
   "outputs": [
    {
     "data": {
      "text/plain": [
       "count      5387.000000\n",
       "mean      92023.629211\n",
       "std       37637.871404\n",
       "min       28119.000000\n",
       "25%       64177.000000\n",
       "50%       83981.000000\n",
       "75%      110000.000000\n",
       "max      265000.000000\n",
       "Name: Salary, dtype: float64"
      ]
     },
     "execution_count": 40,
     "metadata": {},
     "output_type": "execute_result"
    }
   ],
   "source": [
    "data['Salary'].describe()"
   ]
  },
  {
   "cell_type": "code",
   "execution_count": 41,
   "id": "5e4d22c4-251c-4c7f-8880-fc0719f98148",
   "metadata": {},
   "outputs": [
    {
     "data": {
      "text/plain": [
       "0    4075\n",
       "1    1312\n",
       "Name: category, dtype: int64"
      ]
     },
     "execution_count": 41,
     "metadata": {},
     "output_type": "execute_result"
    }
   ],
   "source": [
    "data['category'].value_counts()"
   ]
  },
  {
   "cell_type": "code",
   "execution_count": 42,
   "id": "edf7ff6d-fd83-46ce-9df1-9de4dd024577",
   "metadata": {},
   "outputs": [
    {
     "data": {
      "text/html": [
       "<div>\n",
       "<style scoped>\n",
       "    .dataframe tbody tr th:only-of-type {\n",
       "        vertical-align: middle;\n",
       "    }\n",
       "\n",
       "    .dataframe tbody tr th {\n",
       "        vertical-align: top;\n",
       "    }\n",
       "\n",
       "    .dataframe thead th {\n",
       "        text-align: right;\n",
       "    }\n",
       "</style>\n",
       "<table border=\"1\" class=\"dataframe\">\n",
       "  <thead>\n",
       "    <tr style=\"text-align: right;\">\n",
       "      <th></th>\n",
       "      <th>Tech_avg_salary</th>\n",
       "      <th>Non-Tech_avg_salary</th>\n",
       "    </tr>\n",
       "  </thead>\n",
       "  <tbody>\n",
       "    <tr>\n",
       "      <th>0</th>\n",
       "      <td>103804.290701</td>\n",
       "      <td>88230.689856</td>\n",
       "    </tr>\n",
       "  </tbody>\n",
       "</table>\n",
       "</div>"
      ],
      "text/plain": [
       "   Tech_avg_salary  Non-Tech_avg_salary\n",
       "0    103804.290701         88230.689856"
      ]
     },
     "execution_count": 42,
     "metadata": {},
     "output_type": "execute_result"
    }
   ],
   "source": [
    "avg_tech_salary=0\n",
    "avg_nontech_salary=0\n",
    "for index, row in data.iterrows():\n",
    "  if(row['category']==1):\n",
    "    avg_tech_salary+=row['Salary']\n",
    "  else:\n",
    "    avg_nontech_salary+=row['Salary']\n",
    "\n",
    "avg_tech_salary=avg_tech_salary/1312\n",
    "avg_nontech_salary=avg_nontech_salary/4075\n",
    "\n",
    "#print(avg_tech_salary)\n",
    "#print(avg_nontech_salary)\n",
    "\n",
    "Avg_Salary=pd.DataFrame({'Tech_avg_salary':[avg_tech_salary],'Non-Tech_avg_salary':[avg_nontech_salary]})\n",
    "\n",
    "Avg_Salary"
   ]
  },
  {
   "cell_type": "code",
   "execution_count": 43,
   "id": "c6580497-85ca-4ef5-87ba-ad1716fd19e4",
   "metadata": {},
   "outputs": [],
   "source": [
    "salary_count={1:0,2:0,3:0,4:0,5:0,6:0,7:0}\n",
    "\n",
    "for index, row in data.iterrows():\n",
    "  if(row['Salary']<30000):\n",
    "    salary_count[1]+=1\n",
    "  elif(row['Salary']<50000 and row['Salary']>=30000):\n",
    "    salary_count[2]+=1\n",
    "  elif(row['Salary']<80000 and row['Salary']>=50000):\n",
    "    salary_count[3]+=1\n",
    "  elif(row['Salary']<100000 and row['Salary']>=80000):\n",
    "    salary_count[4]+=1\n",
    "  elif(row['Salary']<100000 and row['Salary']>=120000):\n",
    "    salary_count[5]+=1\n",
    "  elif(row['Salary']<200000 and row['Salary']>=120000):\n",
    "    salary_count[6]+=1\n",
    "  else:\n",
    "      salary_count[7]+=1"
   ]
  },
  {
   "cell_type": "code",
   "execution_count": 44,
   "id": "9441714d-24d4-4f1b-8ad3-bc80d04e40f6",
   "metadata": {},
   "outputs": [
    {
     "data": {
      "text/plain": [
       "{1: 16, 2: 447, 3: 1822, 4: 1324, 5: 0, 6: 934, 7: 844}"
      ]
     },
     "execution_count": 44,
     "metadata": {},
     "output_type": "execute_result"
    }
   ],
   "source": [
    "salary_count"
   ]
  },
  {
   "cell_type": "code",
   "execution_count": 45,
   "id": "bc57d9de-d23f-431b-9861-cccabb26e2cc",
   "metadata": {},
   "outputs": [
    {
     "data": {
      "text/plain": [
       "([<matplotlib.patches.Wedge at 0x7fefe8c6fcd0>,\n",
       "  <matplotlib.patches.Wedge at 0x7fefe8c610d0>,\n",
       "  <matplotlib.patches.Wedge at 0x7fefe8c615b0>,\n",
       "  <matplotlib.patches.Wedge at 0x7fefe8c61a90>,\n",
       "  <matplotlib.patches.Wedge at 0x7fefe8c61f70>,\n",
       "  <matplotlib.patches.Wedge at 0x7fefe8b2a490>,\n",
       "  <matplotlib.patches.Wedge at 0x7fefe8b2a970>],\n",
       " [Text(1.0999521143613857, 0.010263825403680309, '<30k'),\n",
       "  Text(1.0573603536330334, 0.30329702036951633, '30k-50k'),\n",
       "  Text(-0.03495577425196915, 1.0994444478219196, '50k-80k'),\n",
       "  Text(-1.0522670601539441, -0.32052150335816176, '80k-100k'),\n",
       "  Text(-0.5302550367255318, -0.9637580588649857, '100k-120k'),\n",
       "  Text(0.045853869568817346, -1.0990438674800773, '120k-200k'),\n",
       "  Text(0.9694226976535888, -0.5198265415251888, '200k<')])"
      ]
     },
     "execution_count": 45,
     "metadata": {},
     "output_type": "execute_result"
    },
    {
     "data": {
      "image/png": "[encoded data removed]",
      "text/plain": [
       "<Figure size 432x288 with 1 Axes>"
      ]
     },
     "metadata": {},
     "output_type": "display_data"
    }
   ],
   "source": [
    "plt.pie(salary_count.values(),labels=['<30k','30k-50k','50k-80k','80k-100k','100k-120k','120k-200k','200k<'])"
   ]
  },
  {
   "cell_type": "code",
   "execution_count": 46,
   "id": "bb868844-0d75-478f-bba5-e1d8b4c4a75a",
   "metadata": {},
   "outputs": [
    {
     "data": {
      "text/plain": [
       "Index(['Agency', 'Posting Type', '# Of Positions', 'Level', 'Career Level',\n",
       "       'Salary Frequency', 'Salary', 'date1', 'last modified', 'Year', 'qual',\n",
       "       'category', 'month'],\n",
       "      dtype='object')"
      ]
     },
     "execution_count": 46,
     "metadata": {},
     "output_type": "execute_result"
    }
   ],
   "source": [
    "data.columns"
   ]
  },
  {
   "cell_type": "code",
   "execution_count": 47,
   "id": "ba939152-36c0-46fa-9466-a8a323db8084",
   "metadata": {},
   "outputs": [
    {
     "data": {
      "text/plain": [
       "0    4152\n",
       "1    1235\n",
       "Name: qual, dtype: int64"
      ]
     },
     "execution_count": 47,
     "metadata": {},
     "output_type": "execute_result"
    }
   ],
   "source": [
    "data['qual'].value_counts()"
   ]
  },
  {
   "cell_type": "code",
   "execution_count": 48,
   "id": "281b3ff6-1990-4ac3-a427-9bbbb51ee2d9",
   "metadata": {},
   "outputs": [
    {
     "name": "stdout",
     "output_type": "stream",
     "text": [
      "{1: 16, 2: 445, 3: 1603, 4: 897, 5: 0, 6: 672, 7: 519}\n",
      "{1: 0, 2: 2, 3: 219, 4: 427, 5: 0, 6: 262, 7: 325}\n"
     ]
    }
   ],
   "source": [
    "salary_count_bachelors={1:0,2:0,3:0,4:0,5:0,6:0,7:0}\n",
    "salary_count_masters={1:0,2:0,3:0,4:0,5:0,6:0,7:0}\n",
    "for index, row in data.iterrows():\n",
    "  if(row['Salary']<30000):\n",
    "    if(row['qual']):\n",
    "      salary_count_masters[1]+=1\n",
    "    else:\n",
    "      salary_count_bachelors[1]+=1\n",
    "  elif(row['Salary']<50000 and row['Salary']>=30000):\n",
    "    if(row['qual']):\n",
    "      salary_count_masters[2]+=1\n",
    "    else:\n",
    "      salary_count_bachelors[2]+=1\n",
    "  elif(row['Salary']<80000 and row['Salary']>=50000):\n",
    "    if(row['qual']):\n",
    "      salary_count_masters[3]+=1\n",
    "    else:\n",
    "      salary_count_bachelors[3]+=1\n",
    "  elif(row['Salary']<100000 and row['Salary']>=80000):\n",
    "    if(row['qual']):\n",
    "      salary_count_masters[4]+=1\n",
    "    else:\n",
    "      salary_count_bachelors[4]+=1\n",
    "  elif(row['Salary']<100000 and row['Salary']>=120000):\n",
    "    if(row['qual']):\n",
    "      salary_count_masters[5]+=1\n",
    "    else:\n",
    "      salary_count_bachelors[5]+=1\n",
    "  elif(row['Salary']<200000 and row['Salary']>=120000):\n",
    "    if(row['qual']):\n",
    "      salary_count_masters[6]+=1\n",
    "    else:\n",
    "      salary_count_bachelors[6]+=1\n",
    "  else:\n",
    "      if(row['qual']):\n",
    "        salary_count_masters[7]+=1\n",
    "      else:\n",
    "        salary_count_bachelors[7]+=1\n",
    "\n",
    "\n",
    "print(salary_count_bachelors)\n",
    "print(salary_count_masters)"
   ]
  },
  {
   "cell_type": "code",
   "execution_count": 49,
   "id": "cde3f5c6-4a88-4b2a-a0f8-446f055f6c92",
   "metadata": {},
   "outputs": [
    {
     "data": {
      "text/plain": [
       "[16, 445, 1603, 897, 0, 672, 519]"
      ]
     },
     "execution_count": 49,
     "metadata": {},
     "output_type": "execute_result"
    }
   ],
   "source": [
    "list(salary_count_bachelors.values())"
   ]
  },
  {
   "cell_type": "code",
   "execution_count": 50,
   "id": "40bd63a5-489e-4d21-b698-2da1d64d3da9",
   "metadata": {},
   "outputs": [
    {
     "data": {
      "text/plain": [
       "<matplotlib.legend.Legend at 0x7ff028970d00>"
      ]
     },
     "execution_count": 50,
     "metadata": {},
     "output_type": "execute_result"
    },
    {
     "data": {
      "image/png": "[encoded data removed]",
      "text/plain": [
       "<Figure size 432x288 with 1 Axes>"
      ]
     },
     "metadata": {
      "needs_background": "light"
     },
     "output_type": "display_data"
    }
   ],
   "source": [
    "plt.plot(list(salary_count_bachelors.keys()),list(salary_count_bachelors.values()),label='masters')\n",
    "plt.plot(list(salary_count_masters.keys()),list(salary_count_masters.values()),label='bachelors')\n",
    "\n",
    "plt.xlabel('salary', fontweight='bold')\n",
    "plt.ylabel('no. of positions',fontweight='bold')\n",
    "\n",
    "plt.legend()"
   ]
  },
  {
   "cell_type": "markdown",
   "id": "a6d5dbe7-bb94-4911-b908-10b556d43a70",
   "metadata": {},
   "source": [
    "trying to predict salary range on the experience level and qualitfication and job type etc"
   ]
  },
  {
   "cell_type": "code",
   "execution_count": 51,
   "id": "60551153-8fac-471d-b962-44b0c1b224c1",
   "metadata": {},
   "outputs": [
    {
     "data": {
      "text/plain": [
       "Index(['Agency', 'Posting Type', '# Of Positions', 'Level', 'Career Level',\n",
       "       'Salary Frequency', 'Salary', 'date1', 'last modified', 'Year', 'qual',\n",
       "       'category', 'month'],\n",
       "      dtype='object')"
      ]
     },
     "execution_count": 51,
     "metadata": {},
     "output_type": "execute_result"
    }
   ],
   "source": [
    "data.columns"
   ]
  },
  {
   "cell_type": "code",
   "execution_count": 52,
   "id": "1ef64ef4-8cc5-494c-b018-030241ded91b",
   "metadata": {},
   "outputs": [],
   "source": [
    "data_trim=data[['# Of Positions','Level','Career Level','month','qual','category']]"
   ]
  },
  {
   "cell_type": "code",
   "execution_count": 53,
   "id": "473b0a84-2da4-4c24-9450-460d9629e489",
   "metadata": {},
   "outputs": [
    {
     "data": {
      "text/plain": [
       "Job ID\n",
       "554053     73806.0\n",
       "546697     65000.0\n",
       "565942    109409.0\n",
       "556917    151810.0\n",
       "531091    122643.0\n",
       "Name: Salary, dtype: float64"
      ]
     },
     "execution_count": 53,
     "metadata": {},
     "output_type": "execute_result"
    }
   ],
   "source": [
    "salary=data['Salary']\n",
    "salary.head()"
   ]
  },
  {
   "cell_type": "code",
   "execution_count": 54,
   "id": "6a7f4c8e-9f66-4a8c-8f53-df7b8715a2f5",
   "metadata": {},
   "outputs": [],
   "source": [
    "from sklearn.model_selection import train_test_split\n",
    "X_train, X_test, y_train, y_test = train_test_split(data_trim,data['Salary'], test_size=0.33, random_state=42)"
   ]
  },
  {
   "cell_type": "code",
   "execution_count": null,
   "id": "a6028eee-5e8a-42dc-9292-7ec650146507",
   "metadata": {},
   "outputs": [],
   "source": []
  }
 ],
 "metadata": {
  "kernelspec": {
   "display_name": "Python 3 (ipykernel)",
   "language": "python",
   "name": "python3"
  },
  "language_info": {
   "codemirror_mode": {
    "name": "ipython",
    "version": 3
   },
   "file_extension": ".py",
   "mimetype": "text/x-python",
   "name": "python",
   "nbconvert_exporter": "python",
   "pygments_lexer": "ipython3",
   "version": "3.8.2"
  }
 },
 "nbformat": 4,
 "nbformat_minor": 5
}
